{
 "cells": [
  {
   "cell_type": "code",
   "execution_count": 5,
   "id": "c201dc82-2d34-4b4b-9d88-7409f76ed6a1",
   "metadata": {},
   "outputs": [
    {
     "name": "stdout",
     "output_type": "stream",
     "text": [
      "Content written to C:\\Users\\DaneWagenhoffer\\pyrq\\actions.ahk\n"
     ]
    }
   ],
   "source": [
    "#DEPRECATED SEE LAST NOTEBOOK\n",
    "def transform_line(line):\n",
    "    if line.startswith(\"Click:\"):\n",
    "        _, button, _, coordinates = line.split(' ', 3)\n",
    "        x_val = coordinates.split(',')[0].split('x')[1]\n",
    "        y_val = coordinates.split(',')[1].split('y')[1]\n",
    "        button_name = \"Left\" if button == \"LButton,\" else \"Right\"\n",
    "        return f\"MouseClick, {button_name}, {x_val}, {y_val}\"\n",
    "\n",
    "\n",
    "    elif line.startswith(\"Wheel\"):\n",
    "        direction = line.strip()\n",
    "        return f\"MouseClick, {direction}\\nSleep, 100 ; Pause between each scroll\"\n",
    "    elif line.startswith(\"Key:\"):\n",
    "        parts = line.split(', ')\n",
    "        key = parts[0].split(': ')[1]\n",
    "        ctrl = parts[2].split(': ')[1] == \"Yes\"\n",
    "        shift = parts[3].split(': ')[1] == \"Yes\"\n",
    "\n",
    "        modifiers = ''\n",
    "        if ctrl:\n",
    "            modifiers += '^'\n",
    "        if shift:\n",
    "            modifiers += '+'\n",
    "\n",
    "        return f\"Send, {modifiers}{{{key}}}\"\n",
    "    else:\n",
    "        return line\n",
    "\n",
    "# Path to the input file\n",
    "input_file_path = r\"C:\\Users\\DaneWagenhoffer\\pyrq\\events.txt\"\n",
    "\n",
    "# Reading the input string from the file\n",
    "with open(input_file_path, 'r') as file:\n",
    "    input_str = file.read()\n",
    "\n",
    "# Transforming the input string with a tab preceding each line\n",
    "output_str = '\\n'.join([f'\\t{transform_line(line)}' for line in input_str.split('\\n')])\n",
    "\n",
    "# File path to write the output\n",
    "output_file_path = r\"C:\\Users\\DaneWagenhoffer\\pyrq\\actions.ahk\"\n",
    "\n",
    "# Writing the toggle, transformed content, and ending to the file\n",
    "with open(output_file_path, 'w') as file:\n",
    "    # Writing the toggle\n",
    "    file.write(\"toggle := false\\n#MaxThreadsPerHotkey 2  ; Allows a hotkey to interrupt itself\\nF1::\\n    toggle := !toggle\\n    while (toggle) {\\n\")\n",
    "    # Writing the transformed content\n",
    "    file.write(output_str)\n",
    "    # Writing the ending\n",
    "    file.write(\"\\n    }\\nreturn\\n\")\n",
    "\n",
    "print(f\"Content written to {output_file_path}\")"
   ]
  },
  {
   "cell_type": "code",
   "execution_count": 23,
   "id": "24c60be5-d667-44a2-995f-e38faf308817",
   "metadata": {},
   "outputs": [
    {
     "name": "stdout",
     "output_type": "stream",
     "text": [
      "HoH Client IDs of Single Female Head of Household: ['35135', '35135', '35135', '38597', '32489', '38597', '38597', '38597', '38597', '31544', '31544', '31544', '31544', '41140', '41140', '32489', '38597', '38597', '35135', '28681', '28681', '28681', '28681', '43615', '43615', '28379', '28379', '28379', '21641', '21641', '21641', '21641', '21641', '54996', '54996', '54996', '54996', '54996', '54261', '54261', '46436', '46436', '54417', '54417', '50449', '50449', '56633', '56633', '56783', '56783', '56783', '57676', '55191', '50409', '50409', '51460', '54198', '54198', '51460', '57033', '57033', '57676', '29557', '29557', '29557', '29557', '55191', '54198', '24460', '24460', '55748', '55748', '43001', '43001', '46407', '59272', '59272', '59542', '59542', '58555', '57644', '57644', '968', '968', '968', '59291', '59291', '59291', '58183', '58183', '58183', '42364', '42364', '29398', '29398', '29398', '29398', '63509', '63509', '59640', '59640', '59640', '53115', '53115', '53115', '46407', '46407', '67034', '65851', '65851', '48423', '48423', '48423', '15498', '15498', '39211', '15498', '39211', '66191', '66191', '67034', '69253', '69253', '69253', '69253', '63049', '63049', '58555', '64633', '64633', '56219', '56219', '56219', '56219', '64942', '64942', '64942', '64942', '67115', '67115', '67115', '58293', '29398', '70598', '70598', '56471', '56471', '21320', '21320', '48604', '48604', '68824', '68824', '43265', '43265', '59542', '59291', '73128', '73128', '37942', '37942', '68259', '68259', '60245', '60245', '34096', '34096', '74731', '74731', '63418', '63418', '63418', '63418', '63418', '63418', '63418', '45945', '45945', '50030', '50030', '75315', '75315', '75315', '56135', '56135', '36980', '36980', '63567', '63567', '63567', '63567', '63567', '75327', '75327', '75327', '75327', '72753', '72753', '72753', '72753', '73826', '73826', '47056', '47056', '54991', '54991', '54991', '54991', '65443', '60046', '60046', '60046', '72916', '72916', '65851', '58659', '58659', '58659', '58659', '53115', '77079', '77079', '65443', '75425', '75425', '79413', '79413', '79413', '64291', '64291', '73826', '81515', '81515', '71904', '71904', '28534', '28534', '28534', '76753', '76753', '82956', '82956', '83761', '76503', '76503', '76503', '48833', '58573', '58573', '58293', '83684', '48832', '48832', '48832', '83761', '84646', '84646', '39506', '39506', '39506', '39506', '39506', '5659', '5659', '5659', '5659', '85635', '85635', '85635', '85635', '73586', '73586', '73586', '73586', '85864', '85864', '85837', '59139', '85837', '59139', '48833', '70720', '70720', '84307', '84307', '80118', '80118', '83867', '83867', '24601', '24601', '84931', '84931', '84931', '88777', '88777', '88777', '88777', '88777', '88777', '35196', '35196', '35196', '88651', '88651', '88651', '79413', '87425', '87425', '71080', '71080', '87473', '87473', '80671', '80671', '89541', '89541', '75230', '75230', '64243', '64243', '88710', '88710', '77079', '85909', '85909', '44883', '44883', '68109', '68109', '68109', '87385', '87385', '71561', '89453', '89453', '87385', '87385', '71561', '71561', '89992', '89992', '87501', '87501', '87501', '87501', '87501', '91025', '91025', '91025', '91025', '91025', '50692', '50692', '88274', '89289', '89289', '89289', '89289', '89289', '89289', '82136', '82136', '82136', '84777', '84777', '84777', '84777', '85909', '85909', '90523', '90523', '90523', '90523', '43133', '43133', '90523', '90523', '90523', '90523', '86458', '86458', '86458', '88274', '15030', '15030', '15030', '15030', '89535', '89535', '89535', '91358', '89535', '89535', '91902', '91902', '91902', '91358', '92937', '92937', '93163', '93163', '89453', '78974', '78974', '78974', '78974', '78974', '63235', '63235', '63235', '63235', '91587', '91587', '91587', '93849', '93849', '93849']\n"
     ]
    }
   ],
   "source": [
    "# import csv\n",
    "\n",
    "# Replace this with the correct file path\n",
    "# file_path = r'C:\\Users\\DaneWagenhoffer\\pyrq - Copy\\ddy.csv'\n",
    "\n",
    "# Create an empty list to store the HoH Client IDs\n",
    "# hoh_client_ids = []\n",
    "\n",
    "# Open the file in read mode\n",
    "# with open(file_path, 'r') as file:\n",
    "#     reader = csv.DictReader(file)\n",
    "#     for row in reader:\n",
    "#         # Check if the 'Fam Type' is 'Single Female Head of Household'\n",
    "#         if row['Fam Type'] == 'Single Female Head of Household':\n",
    "#             # Append the 'HoH Client ID' to the list\n",
    "#             hoh_client_ids.append(row['HoH Client ID'])\n",
    "\n",
    "# Print the list of HoH Client IDs\n",
    "# print('HoH Client IDs of Single Female Head of Household:', hoh_client_ids)\n"
   ]
  },
  {
   "cell_type": "code",
   "execution_count": 8,
   "id": "b65002a5-b9d8-43de-aff7-22bf04126f05",
   "metadata": {},
   "outputs": [
    {
     "name": "stdout",
     "output_type": "stream",
     "text": [
      "PDFs have been combined successfully!\n"
     ]
    }
   ],
   "source": [
    "# import PyPDF2\n",
    "\n",
    "# Folder where the PDFs are stored\n",
    "# folder_path = r'C:\\Users\\DaneWagenhoffer\\pyrq - Copy'\n",
    "\n",
    "# Paths to the PDF files\n",
    "# a_pdf_path = folder_path + r'\\a.pdf'\n",
    "# b_pdf_path = folder_path + r'\\b.pdf'\n",
    "\n",
    "# Open the PDF files\n",
    "# a_pdf = open(a_pdf_path, 'rb')\n",
    "# b_pdf = open(b_pdf_path, 'rb')\n",
    "\n",
    "# Create PDF reader objects\n",
    "# pdf_reader_a = PyPDF2.PdfReader(a_pdf)\n",
    "# pdf_reader_b = PyPDF2.PdfReader(b_pdf)\n",
    "\n",
    "# Create a PDF writer object\n",
    "# pdf_writer = PyPDF2.PdfWriter()\n",
    "\n",
    "# Add pages from the first PDF\n",
    "# for page_num in range(len(pdf_reader_a.pages)):\n",
    "#     page_obj = pdf_reader_a.pages[page_num]\n",
    "#     pdf_writer.add_page(page_obj)\n",
    "\n",
    "# Add pages from the second PDF\n",
    "# for page_num in range(len(pdf_reader_b.pages)):\n",
    "#     page_obj = pdf_reader_b.pages[page_num]\n",
    "#     pdf_writer.add_page(page_obj)\n",
    "\n",
    "# Output file path\n",
    "# output_path = folder_path + r'\\combined.pdf'\n",
    "\n",
    "# Write the combined PDF to a new file\n",
    "# with open(output_path, 'wb') as combined_pdf:\n",
    "#     pdf_writer.write(combined_pdf)\n",
    "\n",
    "# Close the input files\n",
    "# a_pdf.close()\n",
    "# b_pdf.close()\n",
    "\n",
    "# print('PDFs have been combined successfully!')\n",
    "\n"
   ]
  },
  {
   "cell_type": "code",
   "execution_count": 10,
   "id": "4373ac7e-2122-41b3-867d-bcf255437fc8",
   "metadata": {},
   "outputs": [
    {
     "name": "stdout",
     "output_type": "stream",
     "text": [
      "Content written to C:\\Users\\danewagenhoffer\\pyrq\\actions.ahk\n"
     ]
    }
   ],
   "source": [
    "\n",
    "def transform_line(line):\n",
    "    if line.startswith(\"Click:\"):\n",
    "        _, button, _, coordinates = line.split(' ', 3)\n",
    "        x_val = coordinates.split(',')[0].split('x')[1]\n",
    "        y_val = coordinates.split(',')[1].split('y')[1]\n",
    "        button_name = \"Left\" if button == \"LButton,\" else \"Right\"\n",
    "        return f\"MouseClick, {button_name}, {x_val}, {y_val}\\nSleep, 200\"\n",
    "\n",
    "    elif line.startswith(\"Wheel\"):\n",
    "        direction = line.strip()\n",
    "        return f\"MouseClick, {direction}\\nSleep, 20 ; Pause between each scroll\"\n",
    "    elif line.startswith(\"Key:\"):\n",
    "        parts = line.split(', ')\n",
    "        key = parts[0].split(': ')[1]\n",
    "        ctrl = parts[2].split(': ')[1] == \"Yes\"\n",
    "        shift = parts[3].split(': ')[1] == \"Yes\"\n",
    "\n",
    "        modifiers = ''\n",
    "        if ctrl:\n",
    "            modifiers += '^'\n",
    "        if shift:\n",
    "            modifiers += '+'\n",
    "\n",
    "        return f\"Send, {modifiers}{{{key}}}\"\n",
    "    else:\n",
    "        return line\n",
    "\n",
    "# Path to the input file\n",
    "input_file_path = r\"C:\\Users\\DaneWagenhoffer\\pyrq\\events.txt\"\n",
    "\n",
    "# Reading the input string from the file\n",
    "with open(input_file_path, 'r') as file:\n",
    "    input_str = file.read()\n",
    "\n",
    "# Transforming the input string with a tab preceding each line\n",
    "output_str = '\\n'.join([f'\\t{transform_line(line)}\\n\\tif (!toggle)\\n\\t\\tbreak' for line in input_str.split('\\n')])\n",
    "\n",
    "# File path to write the output\n",
    "output_file_path = r\"C:\\Users\\danewagenhoffer\\pyrq\\actions.ahk\"\n",
    "\n",
    "# Writing the toggle, transformed content, and ending to the file\n",
    "with open(output_file_path, 'w') as file:\n",
    "    # Writing the toggle\n",
    "    file.write(\"toggle := false\\n#MaxThreadsPerHotkey 2  ; Allows a hotkey to interrupt itself\\nF1::\\n    toggle := !toggle\\n    while (toggle) {\\n\")\n",
    "    # Writing the transformed content\n",
    "    file.write(output_str)\n",
    "    # Writing the ending\n",
    "    file.write(\"\\n    }\\nreturn\\n\")\n",
    "\n",
    "print(f\"Content written to {output_file_path}\")\n"
   ]
  },
  {
   "cell_type": "code",
   "execution_count": null,
   "id": "db053747-09fc-4ec1-bfeb-f6f5e7487c20",
   "metadata": {},
   "outputs": [],
   "source": []
  }
 ],
 "metadata": {
  "kernelspec": {
   "display_name": "Python 3 (ipykernel)",
   "language": "python",
   "name": "python3"
  },
  "language_info": {
   "codemirror_mode": {
    "name": "ipython",
    "version": 3
   },
   "file_extension": ".py",
   "mimetype": "text/x-python",
   "name": "python",
   "nbconvert_exporter": "python",
   "pygments_lexer": "ipython3",
   "version": "3.12.0"
  }
 },
 "nbformat": 4,
 "nbformat_minor": 5
}
